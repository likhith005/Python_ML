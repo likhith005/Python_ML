{
 "cells": [
  {
   "cell_type": "code",
   "execution_count": 1,
   "metadata": {},
   "outputs": [
    {
     "name": "stdout",
     "output_type": "stream",
     "text": [
      "Is car =='subaru'? I predict True.\n",
      "True\n",
      "\n",
      "Is car=='audi'? I predict False.\n",
      "False\n"
     ]
    }
   ],
   "source": [
    "car=\"subaru\"\n",
    "print(\"Is car =='subaru'? I predict True.\")\n",
    "print(car==\"subaru\")\n",
    "print(\"\\nIs car=='audi'? I predict False.\")\n",
    "print(car==\"audi\")"
   ]
  },
  {
   "cell_type": "code",
   "execution_count": 38,
   "metadata": {},
   "outputs": [
    {
     "name": "stdout",
     "output_type": "stream",
     "text": [
      "not equal\n"
     ]
    }
   ],
   "source": [
    "'''if statement'''\n",
    "ans=15\n",
    "\n",
    "if ans != 15:\n",
    "    print(\"false\")\n",
    "print(\"not equal\")"
   ]
  },
  {
   "cell_type": "code",
   "execution_count": 6,
   "metadata": {},
   "outputs": [
    {
     "name": "stdout",
     "output_type": "stream",
     "text": [
      "Ohho!!\n"
     ]
    }
   ],
   "source": [
    "fuel = True\n",
    "service = True\n",
    "money = True\n",
    "\n",
    "if fuel and service and money:\n",
    "    print(\"Yayy! We'll go on a vacation!\")\n",
    "\n",
    "print (\"Ohho!!\")"
   ]
  },
  {
   "cell_type": "code",
   "execution_count": 9,
   "metadata": {},
   "outputs": [
    {
     "name": "stdout",
     "output_type": "stream",
     "text": [
      "Yayy! We'll go on a vacation!\n"
     ]
    }
   ],
   "source": [
    "Holiday = False\n",
    "Birthday = True\n",
    "\n",
    "if Holiday or Birthday:\n",
    "    print(\"Yayy! We'll go on a vacation!\")"
   ]
  },
  {
   "cell_type": "code",
   "execution_count": 11,
   "metadata": {},
   "outputs": [
    {
     "name": "stdout",
     "output_type": "stream",
     "text": [
      "Yayy! We'll go on a vacation!\n"
     ]
    }
   ],
   "source": [
    "Holiday = True\n",
    "Birthday = True\n",
    "\n",
    "if Holiday and Birthday:\n",
    "    print(\"Yayy! We'll go on a vacation!\")"
   ]
  },
  {
   "cell_type": "code",
   "execution_count": 17,
   "metadata": {},
   "outputs": [
    {
     "name": "stdout",
     "output_type": "stream",
     "text": [
      "You would get a bike!!\n",
      "Hurray\n",
      "You need to work harder to get a bike!!\n"
     ]
    }
   ],
   "source": [
    "age = 19\n",
    "marks = 60\n",
    "\n",
    "if age >= 18 or marks > 90:\n",
    "    print (\"You would get a bike!!\")\n",
    "    print (\"Hurray\")\n",
    "\n",
    "\n",
    "if age <= 18 or marks <90:\n",
    "    print (\"You need to work harder to get a bike!!\")\n"
   ]
  },
  {
   "cell_type": "code",
   "execution_count": 21,
   "metadata": {},
   "outputs": [],
   "source": [
    "x='ruj'\n",
    "\n",
    "if \"a\" in x:\n",
    "    print(\"yes\")\n",
    "\n"
   ]
  },
  {
   "cell_type": "code",
   "execution_count": 22,
   "metadata": {},
   "outputs": [
    {
     "name": "stdout",
     "output_type": "stream",
     "text": [
      "we have a cloths\n"
     ]
    }
   ],
   "source": [
    "luggage = [\"clothes\",\"charger\",\"shoes\"]\n",
    "\n",
    "x=\"clothes\"\n",
    "\n",
    "if x in luggage:\n",
    "    print (\"we have a cloths\")"
   ]
  },
  {
   "cell_type": "code",
   "execution_count": 27,
   "metadata": {},
   "outputs": [
    {
     "name": "stdout",
     "output_type": "stream",
     "text": [
      "we do not have a novel\n",
      "WElcome\n"
     ]
    }
   ],
   "source": [
    "luggage = [\"clothes\",\"charger\",\"shoes\"]\n",
    "\n",
    "x='novel'\n",
    "\n",
    "if x not in luggage:\n",
    "    print(\"we do not have a novel\")\n",
    "\n",
    "print(\"WElcome\")"
   ]
  },
  {
   "cell_type": "code",
   "execution_count": 42,
   "metadata": {},
   "outputs": [
    {
     "name": "stdout",
     "output_type": "stream",
     "text": [
      "9 is greater\n"
     ]
    }
   ],
   "source": [
    "'''if else statement'''\n",
    "\n",
    "if 8>9:\n",
    "    print(\"8 is greater\")\n",
    "else:\n",
    "    print(\"9 is greater\")"
   ]
  },
  {
   "cell_type": "code",
   "execution_count": 43,
   "metadata": {},
   "outputs": [
    {
     "name": "stdout",
     "output_type": "stream",
     "text": [
      "Hurray! You can drive!!\n",
      " We can add one more line over here\n",
      "Earn some money\n"
     ]
    }
   ],
   "source": [
    "age= 19\n",
    "money= 7000\n",
    "\n",
    "if age > 18:\n",
    "    print(\"Hurray! You can drive!!\")\n",
    "    print(\" We can add one more line over here\")\n",
    "\n",
    "    if money > 8000:\n",
    "        print (\"When are you planning a Ladhak ride!!\")\n",
    "    else:\n",
    "        print (\"Earn some money\")\n",
    "else:    \n",
    "    print (\"Wait till grow up!!\")"
   ]
  },
  {
   "cell_type": "code",
   "execution_count": 44,
   "metadata": {},
   "outputs": [
    {
     "name": "stdout",
     "output_type": "stream",
     "text": [
      "Purchase Iphone!!\n"
     ]
    }
   ],
   "source": [
    "money = 135000\n",
    "\n",
    "if money>130000:\n",
    "    print (\"Purchase Iphone!!\")\n",
    "elif money>13000:\n",
    "    print (\"Purchase Android!!\")\n",
    "elif money>4000:\n",
    "    print (\"Borrow money\")\n",
    "else:\n",
    "    print (\"Enjoy with your Landline!!\")"
   ]
  }
 ],
 "metadata": {
  "kernelspec": {
   "display_name": "Python 3.10.2 64-bit",
   "language": "python",
   "name": "python3"
  },
  "language_info": {
   "codemirror_mode": {
    "name": "ipython",
    "version": 3
   },
   "file_extension": ".py",
   "mimetype": "text/x-python",
   "name": "python",
   "nbconvert_exporter": "python",
   "pygments_lexer": "ipython3",
   "version": "3.10.2"
  },
  "orig_nbformat": 4,
  "vscode": {
   "interpreter": {
    "hash": "aee8b7b246df8f9039afb4144a1f6fd8d2ca17a180786b69acc140d282b71a49"
   }
  }
 },
 "nbformat": 4,
 "nbformat_minor": 2
}
