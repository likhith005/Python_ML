{
 "cells": [
  {
   "cell_type": "code",
   "execution_count": 8,
   "metadata": {},
   "outputs": [
    {
     "name": "stdout",
     "output_type": "stream",
     "text": [
      "Nanneboyina Likhith Raj\n"
     ]
    }
   ],
   "source": [
    "print(\"Nanneboyina Likhith Raj\")"
   ]
  },
  {
   "cell_type": "markdown",
   "metadata": {},
   "source": [
    "Object-oriented programming (OOP) "
   ]
  },
  {
   "cell_type": "code",
   "execution_count": 9,
   "metadata": {},
   "outputs": [
    {
     "data": {
      "text/plain": [
       "2"
      ]
     },
     "execution_count": 9,
     "metadata": {},
     "output_type": "execute_result"
    }
   ],
   "source": [
    "list=[10,20,30,40,20]\n",
    "\n",
    "list.count(20)"
   ]
  },
  {
   "cell_type": "markdown",
   "metadata": {},
   "source": [
    "Objects\n",
    "In,Python everything is an object."
   ]
  },
  {
   "cell_type": "code",
   "execution_count": 10,
   "metadata": {},
   "outputs": [
    {
     "name": "stdout",
     "output_type": "stream",
     "text": [
      "<class 'int'>\n",
      "<class 'str'>\n",
      "<class 'list'>\n",
      "<class 'tuple'>\n",
      "<class 'dict'>\n"
     ]
    }
   ],
   "source": [
    "print(type(10))\n",
    "print (type (\"daman\"))\n",
    "print(type([]))\n",
    "print(type(()))\n",
    "print(type({}))"
   ]
  },
  {
   "cell_type": "markdown",
   "metadata": {},
   "source": [
    "class\n",
    "User defined objects are created using the class keyword.\n",
    "\n",
    "The class is a blueprint that defines the nature of a future object. From classes we can construct\n",
    "instances/objects. An instance is a specific object created from a particular class.\n",
    "\n",
    "For example, above we created the object list1 which was an instance of a list object.\n",
    "\n",
    "Class Emplovees ======= Dict Instance ===Obiect Daman. Sachin ====== dict1\n",
    "\n",
    "Attributes Age, Name, PhoneNo key, value Methods SalCalc() .keys(),"
   ]
  },
  {
   "cell_type": "markdown",
   "metadata": {},
   "source": [
    "# class\n",
    "User defined objects are created using the <code>class</code> keyword.\n",
    "\n",
    "The class is a blueprint that defines the nature of a future object.\n",
    "From classes we can construct instances/obiects.\n",
    "An instance is a specific object created from a particular class.\n",
    "\n",
    "For example, above we created the object <code>list1</code> which was an instance of a list object.\n",
    "\n",
    "Class\n",
    "Instance ===Object           Employees ===== === dict\n",
    "Instance ===Object           Daman, Sachin ===== dictl\n",
    "\n",
    "Attributes                   Age, Name, PhoneNo key,value\n",
    "Methods                      SalCalc()  .keys (),\n"
   ]
  },
  {
   "cell_type": "code",
   "execution_count": 12,
   "metadata": {},
   "outputs": [
    {
     "name": "stdout",
     "output_type": "stream",
     "text": [
      "<class '__main__.sample'>\n"
     ]
    }
   ],
   "source": [
    "class sample:\n",
    "    pass\n",
    "\n",
    "x=sample()\n",
    "\n",
    "print(type(x))"
   ]
  },
  {
   "cell_type": "markdown",
   "metadata": {},
   "source": [
    "Attributes\n",
    "The syntax for creating an attribute is:\n",
    "\n",
    "self.attribute = something\n",
    "\n",
    "There is a special method called:\n",
    "\n",
    "init()\n",
    "\n",
    "This method is used to initialize the attributes of an object. For example:"
   ]
  },
  {
   "cell_type": "code",
   "execution_count": 2,
   "metadata": {},
   "outputs": [
    {
     "name": "stdout",
     "output_type": "stream",
     "text": [
      "Object has been created\n",
      "1\n",
      "Object has been created\n"
     ]
    }
   ],
   "source": [
    "class Bike:\n",
    "    def __init__(self, type1 ,x1 , y1 , z1):\n",
    "        self.type= type1\n",
    "        self.x = x1\n",
    "        self.y = y1\n",
    "        self.z = z1\n",
    "        print (\"Object has been created\")\n",
    "\n",
    "daman = Bike(type1 = 'Road',x1=1 , y1=3 , z1=5)\n",
    "print (daman.x)\n",
    "sachin = Bike (\"Mountain\", 3, 5, 5)"
   ]
  },
  {
   "cell_type": "code",
   "execution_count": 3,
   "metadata": {},
   "outputs": [
    {
     "name": "stdout",
     "output_type": "stream",
     "text": [
      "Road\n",
      "1\n",
      "3\n",
      "5\n"
     ]
    }
   ],
   "source": [
    "print(daman.type)\n",
    "print(daman.x)\n",
    "print(daman.y)\n",
    "print(daman.z)"
   ]
  },
  {
   "cell_type": "code",
   "execution_count": 9,
   "metadata": {},
   "outputs": [
    {
     "name": "stdout",
     "output_type": "stream",
     "text": [
      "<class 'int'>\n",
      "<class 'str'>\n",
      "<class 'type'>\n",
      "<class '__main__.computer'>\n",
      "<class '__main__.computer'>\n",
      "i5, 16gb, 1TB\n",
      "i5, 16gb, 1TB\n",
      "i5, 16gb, 1TB\n",
      "i5, 16gb, 1TB\n"
     ]
    }
   ],
   "source": [
    "class computer():\n",
    "    def config(self):\n",
    "        print(\"i5, 16gb, 1TB\")\n",
    "\n",
    "x=4\n",
    "y=\"5\"\n",
    "\n",
    "comp1=computer()\n",
    "comp2=computer()\n",
    "\n",
    "print(type(x))\n",
    "print(type(y))\n",
    "\n",
    "print(type(computer))\n",
    "print(type(comp1))\n",
    "print(type(comp2))\n",
    "\n",
    "computer.config(comp1)\n",
    "computer.config(comp2)\n",
    "\n",
    "comp1.config()\n",
    "comp2.config()\n"
   ]
  },
  {
   "cell_type": "code",
   "execution_count": 17,
   "metadata": {},
   "outputs": [
    {
     "name": "stdout",
     "output_type": "stream",
     "text": [
      "in init\n",
      "in init\n",
      "i5, 16gb, 1TB\n",
      "i5, 16gb, 1TB\n"
     ]
    }
   ],
   "source": [
    "class computer():\n",
    "\n",
    "    def __init__(self):\n",
    "        print(\"in init\")\n",
    "\n",
    "    def config(self):\n",
    "        print(\"i5, 16gb, 1TB\")\n",
    "\n",
    "comp1=computer()\n",
    "comp2=computer()\n",
    "\n",
    "#computer.config(comp1)\n",
    "#computer.config(comp2)\n",
    "\n",
    "comp1.config()\n",
    "comp2.config()"
   ]
  },
  {
   "cell_type": "code",
   "execution_count": 19,
   "metadata": {},
   "outputs": [
    {
     "name": "stdout",
     "output_type": "stream",
     "text": [
      "config is i5 8\n",
      "config is Ryzen 3 8\n"
     ]
    }
   ],
   "source": [
    "class computer():\n",
    "\n",
    "    def __init__(self,cpu,ram):\n",
    "        self.cpu=cpu\n",
    "        self.ram=ram\n",
    "\n",
    "        \n",
    "\n",
    "    def config(self):\n",
    "        print(\"config is\",self.cpu,self.ram)\n",
    "\n",
    "comp1=computer(\"i5\",8)\n",
    "comp2=computer(\"Ryzen 3\",8)\n",
    "\n",
    "#computer.config(comp1)\n",
    "#computer.config(comp2)\n",
    "\n",
    "comp1.config()\n",
    "comp2.config()"
   ]
  },
  {
   "cell_type": "code",
   "execution_count": 26,
   "metadata": {},
   "outputs": [
    {
     "name": "stdout",
     "output_type": "stream",
     "text": [
      "4425595056\n",
      "4425592512\n"
     ]
    }
   ],
   "source": [
    "class computer():\n",
    "    pass\n",
    "\n",
    "c1=computer()\n",
    "c2=computer()\n",
    "\n",
    "print(id(c1))\n",
    "print(id(c2))\n"
   ]
  },
  {
   "cell_type": "code",
   "execution_count": 38,
   "metadata": {},
   "outputs": [
    {
     "name": "stdout",
     "output_type": "stream",
     "text": [
      "raj\n",
      "rashi\n",
      "raj\n",
      "30\n",
      "rashi\n",
      "20\n"
     ]
    }
   ],
   "source": [
    "class computer:\n",
    "\n",
    "    def __init__(self):\n",
    "        self.name=\"raj\"\n",
    "        self.age=20\n",
    "\n",
    "    def update(self):\n",
    "        self.age=30\n",
    "\n",
    "\n",
    "c1=computer()\n",
    "c2=computer()\n",
    "\n",
    "c2.name=\"rashi\"\n",
    "c1.age=18\n",
    "\n",
    "print(c1.name)\n",
    "print(c2.name)\n",
    "\n",
    "c1.update()\n",
    "\n",
    "print(c1.name)\n",
    "print(c1.age)\n",
    "\n",
    "print(c2.name)\n",
    "print(c2.age)"
   ]
  },
  {
   "cell_type": "code",
   "execution_count": 48,
   "metadata": {},
   "outputs": [
    {
     "name": "stdout",
     "output_type": "stream",
     "text": [
      "they are different\n",
      "raj\n",
      "rishi\n"
     ]
    }
   ],
   "source": [
    "from operator import truediv\n",
    "\n",
    "\n",
    "class computer:\n",
    "\n",
    "    def __init__(self):\n",
    "        self.name=\"raj\"\n",
    "        self.age=20\n",
    "\n",
    "\n",
    "    def compare(self,other):\n",
    "        if self.age == other.age:\n",
    "            return True\n",
    "        else:\n",
    "            return False\n",
    "\n",
    "\n",
    "c1=computer()\n",
    "c1.age=30\n",
    "c2=computer()\n",
    "c2.name=\"rishi\"\n",
    "\n",
    "if c1.compare(c2): #c1 == c2:\n",
    "    print(\"they are same\")\n",
    "else:\n",
    "    print(\"they are different\")\n",
    "\n",
    "print(c1.name)\n",
    "print(c2.name)"
   ]
  },
  {
   "cell_type": "code",
   "execution_count": 53,
   "metadata": {},
   "outputs": [
    {
     "name": "stdout",
     "output_type": "stream",
     "text": [
      "BMW 12 6\n",
      "BMW 10 6\n"
     ]
    }
   ],
   "source": [
    "class car:\n",
    "    \n",
    "    wheels=4\n",
    "\n",
    "    def __init__(self):\n",
    "        self.mil=10\n",
    "        self.com=\"BMW\"\n",
    "\n",
    "c1=car()\n",
    "c2=car()\n",
    "\n",
    "c1.mil=12\n",
    "car.wheels=6\n",
    "\n",
    "print(c1.com,c1.mil,c1.wheels)\n",
    "print(c2.com,c2.mil,c2.wheels)"
   ]
  },
  {
   "cell_type": "code",
   "execution_count": 60,
   "metadata": {},
   "outputs": [
    {
     "name": "stdout",
     "output_type": "stream",
     "text": [
      "67.0\n",
      "81.66666666666667\n"
     ]
    }
   ],
   "source": [
    "class Student:\n",
    "\n",
    "    school='Okridge'\n",
    "\n",
    "    def __init__(self,m1,m2,m3):\n",
    "        self.m1=m1\n",
    "        self.m2=m2\n",
    "        self.m3=m3\n",
    "\n",
    "    def avg(self):\n",
    "        return (self.m1+self.m2+self.m3)/3\n",
    "\n",
    "s1=Student(45,67,89)\n",
    "s2=Student(67,88,90)\n",
    "\n",
    "#s1.avg()\n",
    "print(s1.avg())\n",
    "print(s2.avg())"
   ]
  },
  {
   "cell_type": "code",
   "execution_count": 95,
   "metadata": {},
   "outputs": [
    {
     "name": "stdout",
     "output_type": "stream",
     "text": [
      "122\n",
      "122\n",
      "55\n",
      "67\n",
      "55\n",
      "None\n",
      "Okridge\n",
      "This is a student class in abc module\n"
     ]
    }
   ],
   "source": [
    "class Student1:\n",
    "    school='Okridge'\n",
    "    #working with instance variable use self keyword\n",
    "    def __init__(self,m1,m2):\n",
    "        self.m1=m1\n",
    "        self.m2=m2\n",
    "\n",
    "    def add(self):\n",
    "        return self.m1+self.m2\n",
    "\n",
    "    def get_m1(self):\n",
    "        return self.m1\n",
    "    \n",
    "    def set_m1(self,value):\n",
    "        self.m1=value\n",
    "\n",
    "    #working with class instance/static variable use cls keyword and mention with @classmethod\n",
    "    @classmethod\n",
    "    def get_school(cls):\n",
    "        return cls.school\n",
    "    \n",
    "    @staticmethod\n",
    "    def info():\n",
    "        print(\"This is a student class in abc module\")\n",
    "\n",
    "s1=Student1(55,67)\n",
    "\n",
    "#s1.add()\n",
    "\n",
    "print(s1.m1 + s1.m2)\n",
    "print(s1.add())\n",
    "print(s1.m1)\n",
    "print(s1.m2)\n",
    "print(s1.get_m1())\n",
    "print(s1.set_m1(44))\n",
    "#print(s1.info())\n",
    "print(Student1.get_school())\n",
    "\n",
    "Student1.info()"
   ]
  },
  {
   "cell_type": "code",
   "execution_count": 8,
   "metadata": {},
   "outputs": [
    {
     "name": "stdout",
     "output_type": "stream",
     "text": [
      "raj 2\n",
      "raju 3\n",
      "raj 2\n",
      "4401888992\n",
      "4401882608\n"
     ]
    }
   ],
   "source": [
    "class Student2:\n",
    "\n",
    "    def __init__(self,name,rollno,lap):\n",
    "        self.name=name\n",
    "        self.rollno=rollno\n",
    "        self.lap=self.laptop()\n",
    "\n",
    "\n",
    "    def show(self):\n",
    "        print(s1.name,s1.rollno)\n",
    "\n",
    "    class laptop:\n",
    "\n",
    "        def __init__(self):\n",
    "            self.brand=\"HP\"\n",
    "            self.CPU=\"i9\"\n",
    "            self.RAM=\"8gb\"\n",
    "\n",
    "    \n",
    "\n",
    "s1=Student2('raj',2,'HP')\n",
    "s2=Student2(\"raju\",3,'HP')\n",
    "\n",
    "print(s1.name,s1.rollno)\n",
    "print(s2.name,s2.rollno)\n",
    "#print(s1.show())\n",
    "s1.show()\n",
    "\n",
    "\n",
    "s1.lap.brand\n",
    "lap1=s1.lap\n",
    "lap2=s2.lap\n",
    "\n",
    "print(id(lap1))\n",
    "print(id(lap2))"
   ]
  },
  {
   "cell_type": "code",
   "execution_count": 32,
   "metadata": {},
   "outputs": [
    {
     "name": "stdout",
     "output_type": "stream",
     "text": [
      "raj 2\n",
      "raju 3\n",
      "raj 2\n",
      "HP i5 8\n",
      "None\n",
      "HP\n",
      "i5\n",
      "8\n"
     ]
    }
   ],
   "source": [
    "class Stud:\n",
    "\n",
    "    def __init__(self,name,rollno,lap):\n",
    "        self.name=name\n",
    "        self.rollno=rollno\n",
    "        self.lap=self.laptop()\n",
    "\n",
    "    def show(self):\n",
    "        print(self.name,self.rollno)\n",
    "        self.lap.show()\n",
    "\n",
    "    class laptop:\n",
    "\n",
    "        def __init__(self):\n",
    "            self.brand=\"HP\"\n",
    "            self.CPU=\"i5\"\n",
    "            self.RAM=8\n",
    "\n",
    "        def show(self):\n",
    "            print(self.brand,self.CPU,self.RAM)\n",
    "\n",
    "    \n",
    "lap1=Stud.laptop()\n",
    "#l1=Stud('raj',2,Stud.laptop())\n",
    "l1=Stud('raj',2,lap1)\n",
    "#l2=Stud('raju',3,Stud.laptop())\n",
    "l2=Stud('raju',3,lap2)\n",
    "\n",
    "print(l1.name, l1.rollno)\n",
    "print(l2.name, l2.rollno)\n",
    "\n",
    "print(l1.show())\n",
    "\n",
    "print(lap1.brand)\n",
    "print(lap1.CPU)\n",
    "print(lap1.RAM)"
   ]
  },
  {
   "cell_type": "code",
   "execution_count": 12,
   "metadata": {},
   "outputs": [
    {
     "name": "stdout",
     "output_type": "stream",
     "text": [
      "Feuture 1 is working\n",
      "Feuture 2 is working\n",
      "Feuture 3 is working\n",
      "Feuture 4 is working\n",
      "Feuture 5 is working\n"
     ]
    }
   ],
   "source": [
    "class A:\n",
    "    def feature1(self):\n",
    "        print(\"Feuture 1 is working\")\n",
    "    \n",
    "    def feature2(self):\n",
    "        print(\"Feuture 2 is working\")\n",
    "\n",
    "class B(A): #inheritence\n",
    "    def feature3(self):\n",
    "        print(\"Feuture 3 is working\")\n",
    "    \n",
    "    def feature4(self):\n",
    "        print(\"Feuture 4 is working\")\n",
    "\n",
    "class C(B): #inheritence\n",
    "    def feature5(self):\n",
    "        print(\"Feuture 5 is working\")\n",
    "    \n",
    "\n",
    "a1=A()\n",
    "\n",
    "a1.feature1()\n",
    "a1.feature2()\n",
    "\n",
    "b1=B()\n",
    "\n",
    "b1.feature3()\n",
    "b1.feature4()\n",
    "\n",
    "c1=C()\n",
    "\n",
    "c1.feature5()"
   ]
  },
  {
   "cell_type": "code",
   "execution_count": 10,
   "metadata": {},
   "outputs": [
    {
     "name": "stdout",
     "output_type": "stream",
     "text": [
      "Feuture 1 is working\n",
      "Feuture 2 is working\n",
      "Feuture 3 is working\n",
      "Feuture 4 is working\n",
      "Feuture 1 is working\n",
      "Feuture 2 is working\n",
      "Feuture 3 is working\n",
      "Feuture 4 is working\n",
      "Feuture 5 is working\n"
     ]
    }
   ],
   "source": [
    "class A:\n",
    "    def feature1(self):\n",
    "        print(\"Feuture 1 is working\")\n",
    "    \n",
    "    def feature2(self):\n",
    "        print(\"Feuture 2 is working\")\n",
    "\n",
    "class B: #inheritence\n",
    "    def feature3(self):\n",
    "        print(\"Feuture 3 is working\")\n",
    "    \n",
    "    def feature4(self):\n",
    "        print(\"Feuture 4 is working\")\n",
    "\n",
    "class C(A,B): # multiple inheritence\n",
    "    def feature5(self):\n",
    "        print(\"Feuture 5 is working\")\n",
    "    \n",
    "\n",
    "a1=A()\n",
    "\n",
    "a1.feature1()\n",
    "a1.feature2()\n",
    "\n",
    "b1=B()\n",
    "\n",
    "b1.feature3()\n",
    "b1.feature4()\n",
    "\n",
    "c1=C()\n",
    "\n",
    "c1.feature1()\n",
    "c1.feature2()\n",
    "c1.feature3()\n",
    "c1.feature4()\n",
    "c1.feature5()"
   ]
  },
  {
   "cell_type": "code",
   "execution_count": 34,
   "metadata": {},
   "outputs": [
    {
     "name": "stdout",
     "output_type": "stream",
     "text": [
      "in B init\n"
     ]
    }
   ],
   "source": [
    "class A:\n",
    "    def __init__(self):      #----> constructor\n",
    "        print(\"in A init\")\n",
    "\n",
    "    def feature1(self):\n",
    "        print(\"Feuture 1 is working\")\n",
    "    \n",
    "    def feature2(self):\n",
    "        print(\"Feuture 2 is working\")\n",
    "\n",
    "class B(A): #inheritence\n",
    "    def __init__(self):      #----> constructor\n",
    "        print(\"in B init\")\n",
    "\n",
    "    def feature3(self):\n",
    "        print(\"Feuture 3 is working\")\n",
    "    \n",
    "    def feature4(self):\n",
    "        print(\"Feuture 4 is working\")\n",
    "\n",
    "   #object\n",
    "a1=B() #----> Method\n"
   ]
  },
  {
   "cell_type": "code",
   "execution_count": 36,
   "metadata": {},
   "outputs": [
    {
     "name": "stdout",
     "output_type": "stream",
     "text": [
      "in C init\n"
     ]
    }
   ],
   "source": [
    "class A:\n",
    "    def __init__(self):      #----> constructor\n",
    "        print(\"in A init\")\n",
    "\n",
    "    def feature1(self):\n",
    "        print(\"Feuture 1 is working\")\n",
    "    \n",
    "    def feature2(self):\n",
    "        print(\"Feuture 2 is working\")\n",
    "\n",
    "class B: #inheritence\n",
    "    def __init__(self):      #----> constructor\n",
    "        print(\"in B init\")\n",
    "\n",
    "    def feature3(self):\n",
    "        print(\"Feuture 3 is working\")\n",
    "    \n",
    "    def feature4(self):\n",
    "        print(\"Feuture 4 is working\")\n",
    "\n",
    "class C(A,B): #inheritence\n",
    "    def __init__(self):      #----> constructor\n",
    "        print(\"in C init\")\n",
    "\n",
    "   #object\n",
    "a1=C() #----> Method\n"
   ]
  },
  {
   "cell_type": "code",
   "execution_count": 35,
   "metadata": {},
   "outputs": [
    {
     "name": "stdout",
     "output_type": "stream",
     "text": [
      "in A init\n",
      "in B init\n"
     ]
    }
   ],
   "source": [
    "class A:\n",
    "    def __init__(self):      #----> constructor\n",
    "        print(\"in A init\")\n",
    "\n",
    "    def feature1(self):\n",
    "        print(\"Feuture 1 is working\")\n",
    "    \n",
    "    def feature2(self):\n",
    "        print(\"Feuture 2 is working\")\n",
    "\n",
    "class B(A): #inheritence\n",
    "    def __init__(self):      #----> constructor\n",
    "        super().__init__()\n",
    "        print(\"in B init\")\n",
    "\n",
    "    def feature3(self):\n",
    "        print(\"Feuture 3 is working\")\n",
    "    \n",
    "    def feature4(self):\n",
    "        print(\"Feuture 4 is working\")\n",
    "\n",
    "   #object\n",
    "a1=B() #----> Method\n"
   ]
  },
  {
   "cell_type": "code",
   "execution_count": 40,
   "metadata": {},
   "outputs": [
    {
     "name": "stdout",
     "output_type": "stream",
     "text": [
      "in A init\n",
      "in C init\n",
      "Feuture 1-A is working\n",
      "Feuture 2 is working\n"
     ]
    }
   ],
   "source": [
    "class A:\n",
    "    def __init__(self):      #----> constructor\n",
    "        print(\"in A init\")\n",
    "\n",
    "    def feature1(self):\n",
    "        print(\"Feuture 1-A is working\")\n",
    "    \n",
    "    def feature2(self):\n",
    "        print(\"Feuture 2 is working\")\n",
    "\n",
    "class B: #inheritence\n",
    "    def __init__(self):      #----> constructor\n",
    "        print(\"in B init\")\n",
    "\n",
    "    def feature3(self):\n",
    "        print(\"Feuture 1-B is working\")\n",
    "    \n",
    "    def feature4(self):\n",
    "        print(\"Feuture 4 is working\")\n",
    "\n",
    "class C(A,B): #inheritence\n",
    "    def __init__(self):      #----> constructor\n",
    "        super().__init__()\n",
    "        print(\"in C init\")\n",
    "\n",
    "\n",
    "    def feat(self):\n",
    "        super().feature2()\n",
    "\n",
    "   #object\n",
    "a1=C() #----> Method\n",
    "a1.feature1()\n",
    "a1.feat()\n",
    "# MRO----> Method resolution order prefers from left to right"
   ]
  },
  {
   "cell_type": "code",
   "execution_count": 56,
   "metadata": {},
   "outputs": [
    {
     "name": "stdout",
     "output_type": "stream",
     "text": [
      "Compiling\n",
      "Running\n",
      "spell check\n",
      "convention check\n",
      "Compiling\n",
      "Running\n"
     ]
    }
   ],
   "source": [
    "class Visualstdio:\n",
    "    def execute(self):\n",
    "        print(\"Compiling\")\n",
    "        print(\"Running\")\n",
    "\n",
    "class Myeditor:\n",
    "    def execute(self):\n",
    "        print(\"spell check\")\n",
    "        print(\"convention check\")\n",
    "        print(\"Compiling\")\n",
    "        print(\"Running\")\n",
    "\n",
    "class Laptop:\n",
    "    def code(self,ide):\n",
    "        ide.execute()\n",
    "\n",
    "ide=Myeditor()\n",
    "v1=Visualstdio()\n",
    "lap1=Laptop()\n",
    "\n",
    "v1.execute()\n",
    "lap1.code(ide)\n"
   ]
  },
  {
   "cell_type": "code",
   "execution_count": 60,
   "metadata": {},
   "outputs": [
    {
     "name": "stdout",
     "output_type": "stream",
     "text": [
      "9\n",
      "9\n"
     ]
    }
   ],
   "source": [
    "a=4\n",
    "b=5\n",
    "print(a+b)\n",
    "print(int.__add__(a,b))"
   ]
  },
  {
   "cell_type": "code",
   "execution_count": 61,
   "metadata": {},
   "outputs": [
    {
     "name": "stdout",
     "output_type": "stream",
     "text": [
      "45\n",
      "45\n"
     ]
    }
   ],
   "source": [
    "a='4'\n",
    "b='5'\n",
    "print(a+b)\n",
    "print(str.__add__(a,b))"
   ]
  },
  {
   "cell_type": "markdown",
   "metadata": {},
   "source": [
    "Operator             Magic Method\n",
    "＋.                __add__ (self,other)\n",
    " -                 __sub__ (self,other)\n",
    " *                 __mul__ (self,other)\n",
    " /                 __div__ (self,other)\n",
    " <                 __it__ (self,other)\n",
    " >                 __gt__ (self,other)\n",
    " >=                __ge__ (self,other)\n"
   ]
  },
  {
   "cell_type": "code",
   "execution_count": 48,
   "metadata": {},
   "outputs": [
    {
     "name": "stdout",
     "output_type": "stream",
     "text": [
      "s2 wins\n",
      "70\n",
      "90\n"
     ]
    }
   ],
   "source": [
    "class Student:\n",
    "    def __init__(self,m1,m2): \n",
    "        self.m1=m1\n",
    "        self.m2=m2\n",
    "    \n",
    "    def __add__(self,other):\n",
    "        m1=self.m1 + other.m1\n",
    "        m2=self.m2 + other.m2\n",
    "        s3=Student(m1,m2)\n",
    "        return s3\n",
    "\n",
    "    def __gt__(self,other):\n",
    "        r1=self.m1+self.m2\n",
    "        r2=other.m1+other.m2\n",
    "\n",
    "    def __str__(self):\n",
    "        return self.m1,self.m2\n",
    "\n",
    "        if r1>r2:\n",
    "            return True\n",
    "        else:\n",
    "            return False\n",
    "\n",
    "\n",
    "s1=Student(30,60)\n",
    "s2=Student(40,30)\n",
    "\n",
    "s3=s1+s2 \n",
    "\n",
    "if s1>s2:\n",
    "    print(\"s1 wins\")\n",
    "else:\n",
    "    print(\"s2 wins\")\n",
    "\n",
    "print(s3.m1)\n",
    "print(s3.m2)"
   ]
  },
  {
   "cell_type": "code",
   "execution_count": 50,
   "metadata": {},
   "outputs": [
    {
     "name": "stdout",
     "output_type": "stream",
     "text": [
      "<bound method Student.__str__ of <__main__.Student object at 0x10bb6bdc0>>\n",
      "(30, 60)\n"
     ]
    }
   ],
   "source": [
    "print(s1.__str__)\n",
    "print(s1.__str__())"
   ]
  },
  {
   "cell_type": "code",
   "execution_count": 47,
   "metadata": {},
   "outputs": [
    {
     "name": "stdout",
     "output_type": "stream",
     "text": [
      "70\n",
      "90\n",
      "30 60\n",
      "40 30\n",
      "30 60\n",
      "40 30\n"
     ]
    }
   ],
   "source": [
    "class Student:\n",
    "    def __init__(self,m1,m2): \n",
    "        self.m1=m1\n",
    "        self.m2=m2\n",
    "    \n",
    "    def __add__(self,other):\n",
    "        m1=self.m1 + other.m1\n",
    "        m2=self.m2 + other.m2\n",
    "        s3=Student(m1,m2)\n",
    "        return s3\n",
    "\n",
    "    def __str__(self):\n",
    "        return '{} {}'.format(self.m1,self.m2)\n",
    "\n",
    "s1=Student(30,60)\n",
    "s2=Student(40,30)\n",
    "\n",
    "s3=s1+s2 \n",
    "\n",
    "print(s3.m1)\n",
    "print(s3.m2)\n",
    "\n",
    "print(s1)\n",
    "print(s2)\n",
    "print(s1.__str__())\n",
    "print(s2.__str__())"
   ]
  },
  {
   "cell_type": "code",
   "execution_count": 33,
   "metadata": {},
   "outputs": [
    {
     "name": "stdout",
     "output_type": "stream",
     "text": [
      "The sum of 30 & 50 is 80\n"
     ]
    }
   ],
   "source": [
    "class Add:\n",
    "    def __init__ (self, a, b):\n",
    "        self.a=a\n",
    "        self.b=b\n",
    "        self.sum()\n",
    "\n",
    "    def sum(self) :\n",
    "        print(f\"The sum of {self.a} & {self.b} is {self.a+self.b}\")\n",
    "\n",
    "num1 = int(input(\"Enter first Number:\"))\n",
    "num2 = int(input(\"Enter second Number:\"))\n",
    "\n",
    "num=Add(num1,num2)"
   ]
  },
  {
   "cell_type": "code",
   "execution_count": 51,
   "metadata": {},
   "outputs": [
    {
     "name": "stdout",
     "output_type": "stream",
     "text": [
      "15\n"
     ]
    }
   ],
   "source": [
    "class Student:\n",
    "    def __init__(self,m1,m2):\n",
    "        self.m1=m1\n",
    "        self.m2=m2\n",
    "\n",
    "    def sum(self,a,b,c):\n",
    "        s=a+b+c\n",
    "        return s\n",
    "\n",
    "s1=Student(58,40)\n",
    "\n",
    "print(s1.sum(5,5,5))"
   ]
  },
  {
   "cell_type": "code",
   "execution_count": 53,
   "metadata": {},
   "outputs": [
    {
     "name": "stdout",
     "output_type": "stream",
     "text": [
      "15\n",
      "10\n"
     ]
    }
   ],
   "source": [
    "class Student:\n",
    "    def __init__(self,m1,m2):\n",
    "        self.m1=m1\n",
    "        self.m2=m2\n",
    "    #Method overloading\n",
    "    def sum(self,a=None,b=None,c=None):\n",
    "        if a!=None and b!=None and c!=None:\n",
    "            s=a+b+c\n",
    "        elif a!=None and b!=None:\n",
    "            s=a+b\n",
    "        else:\n",
    "            s=a\n",
    "\n",
    "        return s\n",
    "\n",
    "s1=Student(58,40)\n",
    "\n",
    "print(s1.sum(5,5,5))\n",
    "print(s1.sum(5,5))"
   ]
  },
  {
   "cell_type": "code",
   "execution_count": 56,
   "metadata": {},
   "outputs": [
    {
     "name": "stdout",
     "output_type": "stream",
     "text": [
      "in A show\n"
     ]
    }
   ],
   "source": [
    "#Method overloading\n",
    "class A:\n",
    "    def show(self):\n",
    "        print(\"in A show\")\n",
    "\n",
    "class B(A):\n",
    "    pass\n",
    "    \n",
    "s1=A()\n",
    "s1=B()\n",
    "\n",
    "\n",
    "s1.show()"
   ]
  },
  {
   "cell_type": "code",
   "execution_count": 57,
   "metadata": {},
   "outputs": [
    {
     "name": "stdout",
     "output_type": "stream",
     "text": [
      "in B show\n"
     ]
    }
   ],
   "source": [
    "#Method overloading\n",
    "class A:\n",
    "    def show(self):\n",
    "        print(\"in A show\")\n",
    "\n",
    "class B(A):\n",
    "    def show(self):\n",
    "        print(\"in B show\")\n",
    "    \n",
    "    \n",
    "s1=A()\n",
    "s1=B()\n",
    "\n",
    "\n",
    "s1.show()"
   ]
  }
 ],
 "metadata": {
  "kernelspec": {
   "display_name": "Python 3.10.2 64-bit",
   "language": "python",
   "name": "python3"
  },
  "language_info": {
   "codemirror_mode": {
    "name": "ipython",
    "version": 3
   },
   "file_extension": ".py",
   "mimetype": "text/x-python",
   "name": "python",
   "nbconvert_exporter": "python",
   "pygments_lexer": "ipython3",
   "version": "3.10.2"
  },
  "orig_nbformat": 4,
  "vscode": {
   "interpreter": {
    "hash": "aee8b7b246df8f9039afb4144a1f6fd8d2ca17a180786b69acc140d282b71a49"
   }
  }
 },
 "nbformat": 4,
 "nbformat_minor": 2
}
