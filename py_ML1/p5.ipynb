{
 "cells": [
  {
   "cell_type": "markdown",
   "metadata": {},
   "source": [
    "FUNCTIONS\n",
    "A function is a block of code which only runs when it is called.\n",
    "You can pass data, known as parameters, into a function.\n",
    "A function can return data as a result.\n",
    "\n",
    "Syntax:\n",
    "def func name(parameters): function body"
   ]
  },
  {
   "cell_type": "code",
   "execution_count": 1,
   "metadata": {},
   "outputs": [
    {
     "name": "stdout",
     "output_type": "stream",
     "text": [
      "Hello\n"
     ]
    }
   ],
   "source": [
    "def greet_user():\n",
    "     '''display a greeting'''\n",
    "     print(\"Hello\")\n",
    "\n",
    "greet_user()"
   ]
  },
  {
   "cell_type": "code",
   "execution_count": 2,
   "metadata": {},
   "outputs": [
    {
     "name": "stdout",
     "output_type": "stream",
     "text": [
      "hello raj !\n",
      "<class 'str'>\n"
     ]
    }
   ],
   "source": [
    "def greet_user(username123):\n",
    "    print('hello',username123,'!')\n",
    "    print(type(username123))\n",
    "\n",
    "greet_user(\"raj\")"
   ]
  },
  {
   "cell_type": "code",
   "execution_count": 6,
   "metadata": {},
   "outputs": [
    {
     "name": "stdout",
     "output_type": "stream",
     "text": [
      "Wait for one more year. You are just 20 years old!!\n"
     ]
    }
   ],
   "source": [
    "age=20\n",
    "print(\"Wait for one more year. You are just \" + str(age) +\" years old!!\")"
   ]
  },
  {
   "cell_type": "code",
   "execution_count": 2,
   "metadata": {},
   "outputs": [
    {
     "name": "stdout",
     "output_type": "stream",
     "text": [
      "Takes in a number n, returns the square of n\n"
     ]
    }
   ],
   "source": [
    "def square(n):\n",
    "    '''Takes in a number n, returns the square of n'''\n",
    "    return n**2\n",
    "\n",
    "print(square.__doc__)"
   ]
  },
  {
   "cell_type": "code",
   "execution_count": 3,
   "metadata": {},
   "outputs": [
    {
     "data": {
      "text/plain": [
       "4"
      ]
     },
     "execution_count": 3,
     "metadata": {},
     "output_type": "execute_result"
    }
   ],
   "source": [
    "square(2)"
   ]
  },
  {
   "cell_type": "code",
   "execution_count": 9,
   "metadata": {},
   "outputs": [
    {
     "name": "stdout",
     "output_type": "stream",
     "text": [
      "15\n"
     ]
    }
   ],
   "source": [
    "def demo():\n",
    "    a=10+5\n",
    "    print(a)\n",
    "demo()"
   ]
  },
  {
   "cell_type": "code",
   "execution_count": 11,
   "metadata": {},
   "outputs": [
    {
     "name": "stdout",
     "output_type": "stream",
     "text": [
      "1.  5\n",
      "2.  10\n",
      "3.  5\n"
     ]
    }
   ],
   "source": [
    "a=5\n",
    "print(\"1. \",a)\n",
    "\n",
    "def demo():\n",
    "    a=10\n",
    "    print(\"2. \",a)\n",
    "\n",
    "demo()\n",
    "\n",
    "print(\"3. \",a)\n"
   ]
  },
  {
   "cell_type": "code",
   "execution_count": 9,
   "metadata": {},
   "outputs": [
    {
     "data": {
      "text/plain": [
       "4"
      ]
     },
     "execution_count": 9,
     "metadata": {},
     "output_type": "execute_result"
    }
   ],
   "source": [
    "def sum_num(a,b):\n",
    "    '''Takes two parameters and return sum'''\n",
    "    return a+b\n",
    "\n",
    "sum_num(2,2)"
   ]
  },
  {
   "cell_type": "code",
   "execution_count": 10,
   "metadata": {},
   "outputs": [
    {
     "name": "stdout",
     "output_type": "stream",
     "text": [
      "Takes two parameters and return sum\n"
     ]
    }
   ],
   "source": [
    "print(sum_num.__doc__)"
   ]
  },
  {
   "cell_type": "code",
   "execution_count": 11,
   "metadata": {},
   "outputs": [
    {
     "name": "stdout",
     "output_type": "stream",
     "text": [
      "print(value, ..., sep=' ', end='\\n', file=sys.stdout, flush=False)\n",
      "\n",
      "Prints the values to a stream, or to sys.stdout by default.\n",
      "Optional keyword arguments:\n",
      "file:  a file-like object (stream); defaults to the current sys.stdout.\n",
      "sep:   string inserted between values, default a space.\n",
      "end:   string appended after the last value, default a newline.\n",
      "flush: whether to forcibly flush the stream.\n"
     ]
    }
   ],
   "source": [
    "print(print.__doc__)"
   ]
  },
  {
   "cell_type": "code",
   "execution_count": 15,
   "metadata": {},
   "outputs": [
    {
     "name": "stdout",
     "output_type": "stream",
     "text": [
      "animal type Dog\n",
      "Pet Name Tommy\n",
      "animal type Tommy\n",
      "Pet Name Dog\n"
     ]
    }
   ],
   "source": [
    "#Positional Argument\n",
    "def describe_pet (animal_type, pet_name) :\n",
    "    print (\"animal type\", animal_type)\n",
    "    print(\"Pet Name\",pet_name.title())\n",
    "\n",
    "x=\"Dog\"\n",
    "y=\"Tommy\"\n",
    "describe_pet(x, y)\n",
    "describe_pet(y ,x)"
   ]
  },
  {
   "cell_type": "code",
   "execution_count": 16,
   "metadata": {},
   "outputs": [
    {
     "name": "stdout",
     "output_type": "stream",
     "text": [
      "hamster\n",
      "harry\n",
      "harry\n",
      "hamster\n"
     ]
    }
   ],
   "source": [
    "def describe_pet(animal_type, pet_name):\n",
    "    print(animal_type)\n",
    "    print(pet_name)\n",
    "\n",
    "describe_pet(pet_name='harry',animal_type=\"hamster\")\n",
    "describe_pet(pet_name='hamster',animal_type=\"harry\")\n"
   ]
  },
  {
   "cell_type": "code",
   "execution_count": 26,
   "metadata": {},
   "outputs": [
    {
     "name": "stdout",
     "output_type": "stream",
     "text": [
      "3\n",
      "4\n",
      "8\n",
      "5\n"
     ]
    }
   ],
   "source": [
    "def demo( x, y , z):\n",
    "    print(y)\n",
    "\n",
    "#Keyword Argument\n",
    "demo(y=3,z=4,x=8)\n",
    "\n",
    "#Positional Argument\n",
    "demo(3, 4 , 8)\n",
    "\n",
    "#Mix\n",
    "demo(3,y=8,z=6)\n",
    "\n",
    "demo(4,5,8)   "
   ]
  },
  {
   "cell_type": "code",
   "execution_count": 29,
   "metadata": {},
   "outputs": [
    {
     "name": "stdout",
     "output_type": "stream",
     "text": [
      "Pet Name Senorita\n",
      "x abc\n",
      "Animal Type dog\n"
     ]
    }
   ],
   "source": [
    "def describe_pet(pet_name,x=\"qwe\", animal_type =\"Cat\"):\n",
    "    print (\"Pet Name \" +pet_name)\n",
    "    print(\"x \" +x)\n",
    "    print(\"Animal Type \" +animal_type)\n",
    "\n",
    "describe_pet('Senorita',\"abc\",\"dog\")"
   ]
  },
  {
   "cell_type": "code",
   "execution_count": 52,
   "metadata": {},
   "outputs": [
    {
     "name": "stdout",
     "output_type": "stream",
     "text": [
      "Jimi Hendrix\n"
     ]
    }
   ],
   "source": [
    "def get_formatted_name(first_name, last_name):\n",
    "    full_name = first_name + ' ' + last_name\n",
    "    return full_name.title()\n",
    "    x=3\n",
    "\n",
    "musician = get_formatted_name('jimi', 'hendrix')\n",
    "print(musician)"
   ]
  }
 ],
 "metadata": {
  "kernelspec": {
   "display_name": "Python 3.10.2 64-bit",
   "language": "python",
   "name": "python3"
  },
  "language_info": {
   "codemirror_mode": {
    "name": "ipython",
    "version": 3
   },
   "file_extension": ".py",
   "mimetype": "text/x-python",
   "name": "python",
   "nbconvert_exporter": "python",
   "pygments_lexer": "ipython3",
   "version": "3.10.2"
  },
  "orig_nbformat": 4,
  "vscode": {
   "interpreter": {
    "hash": "aee8b7b246df8f9039afb4144a1f6fd8d2ca17a180786b69acc140d282b71a49"
   }
  }
 },
 "nbformat": 4,
 "nbformat_minor": 2
}
