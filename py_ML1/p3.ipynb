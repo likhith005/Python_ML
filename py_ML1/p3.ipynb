{
 "cells": [
  {
   "cell_type": "code",
   "execution_count": 1,
   "metadata": {},
   "outputs": [],
   "source": [
    "bikes = [\"ducati\",\"harley-Davidson\", \"BMW\", \"Truimph\"]"
   ]
  },
  {
   "cell_type": "code",
   "execution_count": 3,
   "metadata": {},
   "outputs": [
    {
     "name": "stdout",
     "output_type": "stream",
     "text": [
      "ducati\n",
      "harley-Davidson\n",
      "BMW\n",
      "Truimph\n"
     ]
    }
   ],
   "source": [
    "print(bikes[0])\n",
    "print(bikes[1])\n",
    "print(bikes[2])\n",
    "print(bikes[3])"
   ]
  },
  {
   "cell_type": "code",
   "execution_count": 5,
   "metadata": {},
   "outputs": [
    {
     "name": "stdout",
     "output_type": "stream",
     "text": [
      "['ducati', 'harley-Davidson', 'BMW', 'Truimph']\n",
      "ducati\n",
      "I love to ride\n",
      "\n",
      "Demo\n",
      "harley-Davidson\n",
      "I love to ride\n",
      "\n",
      "Demo\n",
      "BMW\n",
      "I love to ride\n",
      "\n",
      "Demo\n",
      "Truimph\n",
      "I love to ride\n",
      "\n",
      "Demo\n"
     ]
    }
   ],
   "source": [
    "#Looping Through Entire List\n",
    "print(bikes)\n",
    "\n",
    "for bike in bikes:\n",
    "    print(bike)\n",
    "    print(\"I love to ride\\n\")\n",
    "    print (\"Demo\")"
   ]
  },
  {
   "cell_type": "code",
   "execution_count": 40,
   "metadata": {},
   "outputs": [
    {
     "name": "stdout",
     "output_type": "stream",
     "text": [
      "1\n",
      "2\n",
      "3\n",
      "4\n",
      "5\n"
     ]
    }
   ],
   "source": [
    "lst1 = [1 ,2 , 3 ,4 ,5]\n",
    "for num in lst1:\n",
    "    print (num)"
   ]
  },
  {
   "cell_type": "code",
   "execution_count": 11,
   "metadata": {},
   "outputs": [
    {
     "name": "stdout",
     "output_type": "stream",
     "text": [
      "r\n",
      "a\n",
      "j\n"
     ]
    }
   ],
   "source": [
    "s=\"raj\"\n",
    "\n",
    "for char in s:\n",
    "    print(char)"
   ]
  },
  {
   "cell_type": "code",
   "execution_count": 14,
   "metadata": {},
   "outputs": [
    {
     "name": "stdout",
     "output_type": "stream",
     "text": [
      "I love\tducati\n",
      "I want it\n",
      "\n",
      "I love\tharley-Davidson\n",
      "I want it\n",
      "\n",
      "I love\tBMW\n",
      "I want it\n",
      "\n",
      "I love\tTruimph\n",
      "I want it\n",
      "\n"
     ]
    }
   ],
   "source": [
    "for bike in bikes:\n",
    "    print(\"I love\\t\" + bike )\n",
    "    print(\"I want it\\n\")"
   ]
  },
  {
   "cell_type": "code",
   "execution_count": 19,
   "metadata": {},
   "outputs": [
    {
     "name": "stdout",
     "output_type": "stream",
     "text": [
      "4\n",
      "I love\tducati\n",
      "I want it\n",
      "I love to rid\n",
      "\n",
      "I love\tharley-Davidson\n",
      "I want it\n",
      "I love to rid\n",
      "\n",
      "I love\tBMW\n",
      "I want it\n",
      "I love to rid\n",
      "\n",
      "I love\tTruimph\n",
      "I want it\n",
      "I love to rid\n",
      "\n"
     ]
    }
   ],
   "source": [
    "print (len(bikes))\n",
    "for bike in bikes:\n",
    "    print(\"I love\\t\"+ bike )\n",
    "    print(\"I want it\")\n",
    "    print(\"I love to rid\\n\")"
   ]
  },
  {
   "cell_type": "code",
   "execution_count": 36,
   "metadata": {},
   "outputs": [
    {
     "name": "stdout",
     "output_type": "stream",
     "text": [
      "1\n",
      "2\n",
      "3\n",
      "4\n",
      "5\n"
     ]
    }
   ],
   "source": [
    "lst=[1,2,3,4,5]\n",
    "for values in lst:\n",
    "    print(values)"
   ]
  },
  {
   "cell_type": "code",
   "execution_count": 30,
   "metadata": {},
   "outputs": [
    {
     "name": "stdout",
     "output_type": "stream",
     "text": [
      "0\n",
      "1\n",
      "2\n",
      "3\n",
      "4\n",
      "5\n",
      "6\n"
     ]
    }
   ],
   "source": [
    "for values in range(0,7):\n",
    "    print(values)"
   ]
  },
  {
   "cell_type": "code",
   "execution_count": 16,
   "metadata": {},
   "outputs": [
    {
     "name": "stdout",
     "output_type": "stream",
     "text": [
      "1\n",
      "2\n",
      "end\n"
     ]
    }
   ],
   "source": [
    "l=[1,2,3,4,5,6,7]\n",
    "\n",
    "for values in l:\n",
    "    if values==3:\n",
    "        break      #continue\n",
    "    print(values)\n",
    "print(\"end\")"
   ]
  },
  {
   "cell_type": "code",
   "execution_count": 1,
   "metadata": {},
   "outputs": [
    {
     "data": {
      "text/plain": [
       "[1, 2, 3, 4, 5]"
      ]
     },
     "execution_count": 1,
     "metadata": {},
     "output_type": "execute_result"
    }
   ],
   "source": [
    "numbers=list(range(1,6))\n",
    "numbers"
   ]
  },
  {
   "cell_type": "code",
   "execution_count": 2,
   "metadata": {},
   "outputs": [
    {
     "data": {
      "text/plain": [
       "[0, 2, 4]"
      ]
     },
     "execution_count": 2,
     "metadata": {},
     "output_type": "execute_result"
    }
   ],
   "source": [
    "numbers=list(range(0,6,2))\n",
    "numbers"
   ]
  },
  {
   "cell_type": "code",
   "execution_count": 5,
   "metadata": {},
   "outputs": [
    {
     "name": "stdout",
     "output_type": "stream",
     "text": [
      "1\n",
      "2\n",
      "3\n",
      "4\n",
      "5\n"
     ]
    }
   ],
   "source": [
    "#While loop\n",
    "current_number=1\n",
    "while current_number<=5:\n",
    "    print(current_number)\n",
    "    current_number += 1"
   ]
  },
  {
   "cell_type": "code",
   "execution_count": 6,
   "metadata": {},
   "outputs": [
    {
     "name": "stdout",
     "output_type": "stream",
     "text": [
      "Wait for one more year. You are just15 years old!!\n",
      "Wait for one more year. You are just16 years old!!\n",
      "Wait for one more year. You are just17 years old!!\n",
      "Wait for one more year. You are just18 years old!!\n",
      "Now you can drive!!\n"
     ]
    }
   ],
   "source": [
    "age = 15\n",
    "while(age <= 18):\n",
    "    print(\"Wait for one more year. You are just\" + str(age) +\" years old!!\")\n",
    "    age += 1 #====age=age+1\n",
    "\n",
    "print (\"Now you can drive!!\")"
   ]
  },
  {
   "cell_type": "code",
   "execution_count": 7,
   "metadata": {},
   "outputs": [
    {
     "name": "stdout",
     "output_type": "stream",
     "text": [
      "quit\n"
     ]
    }
   ],
   "source": [
    "prompt=\"\\nTell me something, and I will repeat it back to you:\"\n",
    "prompt +=\"\\nEnter 'quit' to end the program\\t\"\n",
    "message= \"\"\n",
    "\n",
    "while message !=\"quit\":\n",
    "    message = input (prompt)\n",
    "print (message)"
   ]
  },
  {
   "cell_type": "code",
   "execution_count": 23,
   "metadata": {},
   "outputs": [
    {
     "name": "stdout",
     "output_type": "stream",
     "text": [
      "Sunday\n",
      "Hurray! Week Completed\n",
      "Monday\n",
      "Hurray! Week Completed\n",
      "Tuesday\n",
      "Wednesday\n",
      "Hurray! Week Completed\n",
      "Thursday\n",
      "Hurray! Week Completed\n",
      "Friday\n",
      "Hurray! Week Completed\n",
      "Saturday\n",
      "Hurray! Week Completed\n"
     ]
    }
   ],
   "source": [
    "days = [\"Sunday\",\"Monday\",\"Tuesday\",\"Wednesday\",\"Thursday\",\"Friday\",\"Saturday\"]\n",
    "index = 0\n",
    "\n",
    "while index < len(days):\n",
    "    print (days[index])\n",
    "    index +=1\n",
    "    if index == 3:\n",
    "        pass #break\n",
    "    else:\n",
    "        print (\"Hurray! Week Completed\")"
   ]
  },
  {
   "cell_type": "code",
   "execution_count": 24,
   "metadata": {},
   "outputs": [
    {
     "name": "stdout",
     "output_type": "stream",
     "text": [
      "DragansvsWolves\n",
      "DragansvsPandas\n",
      "DragansvsUnicorns\n",
      "WolvesvsDragans\n",
      "WolvesvsPandas\n",
      "WolvesvsUnicorns\n",
      "PandasvsDragans\n",
      "PandasvsWolves\n",
      "PandasvsUnicorns\n",
      "UnicornsvsDragans\n",
      "UnicornsvsWolves\n",
      "UnicornsvsPandas\n"
     ]
    }
   ],
   "source": [
    "teams=[\"Dragans\",\"Wolves\",\"Pandas\",\"Unicorns\"]\n",
    "for home_teams in teams:\n",
    "    for away_teams in teams:\n",
    "        if home_teams != away_teams:\n",
    "            print(home_teams+ 'vs' +away_teams)\n",
    "    "
   ]
  }
 ],
 "metadata": {
  "kernelspec": {
   "display_name": "Python 3.10.2 64-bit",
   "language": "python",
   "name": "python3"
  },
  "language_info": {
   "codemirror_mode": {
    "name": "ipython",
    "version": 3
   },
   "file_extension": ".py",
   "mimetype": "text/x-python",
   "name": "python",
   "nbconvert_exporter": "python",
   "pygments_lexer": "ipython3",
   "version": "3.10.2"
  },
  "orig_nbformat": 4,
  "vscode": {
   "interpreter": {
    "hash": "aee8b7b246df8f9039afb4144a1f6fd8d2ca17a180786b69acc140d282b71a49"
   }
  }
 },
 "nbformat": 4,
 "nbformat_minor": 2
}
