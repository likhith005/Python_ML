{
 "cells": [
  {
   "cell_type": "code",
   "execution_count": 2,
   "metadata": {},
   "outputs": [
    {
     "name": "stdout",
     "output_type": "stream",
     "text": [
      "['False', 'None', 'True', 'and', 'as', 'assert', 'async', 'await', 'break', 'class', 'continue', 'def', 'del', 'elif', 'else', 'except', 'finally', 'for', 'from', 'global', 'if', 'import', 'in', 'is', 'lambda', 'nonlocal', 'not', 'or', 'pass', 'raise', 'return', 'try', 'while', 'with', 'yield']\n",
      "35\n"
     ]
    }
   ],
   "source": [
    "import keyword\n",
    "\n",
    "print(keyword.kwlist)\n",
    "print(len(keyword.kwlist))"
   ]
  },
  {
   "cell_type": "code",
   "execution_count": 3,
   "metadata": {},
   "outputs": [
    {
     "data": {
      "text/plain": [
       "<module 'pwd' (built-in)>"
      ]
     },
     "execution_count": 3,
     "metadata": {},
     "output_type": "execute_result"
    }
   ],
   "source": [
    "import pwd\n",
    "\n",
    "\n",
    "pwd"
   ]
  },
  {
   "cell_type": "code",
   "execution_count": 13,
   "metadata": {},
   "outputs": [
    {
     "name": "stdout",
     "output_type": "stream",
     "text": [
      "oc ti\n"
     ]
    }
   ],
   "source": [
    "# strings\n",
    "s='Make it count'\n",
    "#s[4:9]\n",
    "#print(s[-9:-4])\n",
    "#print(s[-4:-9:-1])\n"
   ]
  },
  {
   "cell_type": "code",
   "execution_count": 15,
   "metadata": {},
   "outputs": [
    {
     "name": "stdout",
     "output_type": "stream",
     "text": [
      "e it \n",
      "t cou\n",
      "t \n",
      "\n",
      "ake i\n",
      "Make it count\n",
      "e it count\n",
      "Mak\n",
      "unt\n"
     ]
    }
   ],
   "source": [
    "S=\"DemoPython\"\n",
    "#To print opyth\n",
    "print(s[3:8])\n",
    "print(s[-7 : -2])\n",
    "print(s[-7:8])\n",
    "print(s[8:3])\n",
    "#to print \"emoPy\"\n",
    "print(s[1:6])\n",
    "print(s)\n",
    "#To print Python\n",
    "print(s[-10 : ])\n",
    "#Print 3 letters from start\n",
    "S=\"DemoPython\"\n",
    "print(s[ : 3])\n",
    "#Print 3 Letters from end\n",
    "print(s[-3:])\n",
    "#print(s[-1 : -41)"
   ]
  },
  {
   "cell_type": "code",
   "execution_count": 16,
   "metadata": {},
   "outputs": [
    {
     "name": "stdout",
     "output_type": "stream",
     "text": [
      "\n"
     ]
    }
   ],
   "source": [
    "print(s[-1: -4])\n",
    "#jump=1\n",
    "# start -1\n",
    "#First value = start ==-1\n",
    "#Second value= start +jump =-1+1 =0\n",
    "#Third Value = second value +jump = 0+1 =1"
   ]
  },
  {
   "cell_type": "code",
   "execution_count": 17,
   "metadata": {},
   "outputs": [
    {
     "name": "stdout",
     "output_type": "stream",
     "text": [
      "o\n",
      "t\n",
      "ta\n"
     ]
    }
   ],
   "source": [
    "S=\"DemoPython\"\n",
    "print(s[9:3:-11])\n",
    "print(s[-1: -7 :-11])\n",
    "print(s[ : : -11])"
   ]
  },
  {
   "cell_type": "code",
   "execution_count": 18,
   "metadata": {},
   "outputs": [
    {
     "name": "stdout",
     "output_type": "stream",
     "text": [
      "Daman Virdi\n",
      "DAMAN VIRDI\n",
      "daman virdi\n",
      "daman virdi\n"
     ]
    }
   ],
   "source": [
    "s1 =\"daman virdi\"\n",
    "#built in methods\n",
    "#changing case\n",
    "print(s1.title())\n",
    "print(s1.upper())\n",
    "print(s1.lower())\n",
    "print(s1)"
   ]
  },
  {
   "cell_type": "code",
   "execution_count": 20,
   "metadata": {},
   "outputs": [
    {
     "name": "stdout",
     "output_type": "stream",
     "text": [
      " Daman \n",
      "Daman\n",
      " Daman\n",
      "Daman \n",
      "Daman\n"
     ]
    }
   ],
   "source": [
    "#stripping whitespaces\n",
    "s1 =' Daman '\n",
    "print(s1)\n",
    "print(s1.strip())\n",
    "print(s1.rstrip())\n",
    "print(s1.lstrip())\n",
    "s1 = s1.strip()\n",
    "print(s1)"
   ]
  }
 ],
 "metadata": {
  "kernelspec": {
   "display_name": "Python 3.10.2 64-bit",
   "language": "python",
   "name": "python3"
  },
  "language_info": {
   "codemirror_mode": {
    "name": "ipython",
    "version": 3
   },
   "file_extension": ".py",
   "mimetype": "text/x-python",
   "name": "python",
   "nbconvert_exporter": "python",
   "pygments_lexer": "ipython3",
   "version": "3.10.2"
  },
  "orig_nbformat": 4,
  "vscode": {
   "interpreter": {
    "hash": "aee8b7b246df8f9039afb4144a1f6fd8d2ca17a180786b69acc140d282b71a49"
   }
  }
 },
 "nbformat": 4,
 "nbformat_minor": 2
}
